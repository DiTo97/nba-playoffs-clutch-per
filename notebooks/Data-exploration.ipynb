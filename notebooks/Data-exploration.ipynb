{
 "cells": [
  {
   "cell_type": "code",
   "execution_count": null,
   "id": "b925f332-d811-49fc-9ba4-42f0ed077e02",
   "metadata": {},
   "outputs": [],
   "source": [
    "import os\n",
    "import pandas as pd\n",
    "import sys\n",
    "\n",
    "from pathlib import Path\n",
    "\n",
    "# Custom imports\n",
    "sys.path.append(os.path.join(\n",
    "    os.path.abspath('.'), 'notebooks'))\n",
    "\n",
    "from commons import *"
   ]
  },
  {
   "cell_type": "code",
   "execution_count": null,
   "id": "4310d595-b982-4d9c-89c6-f50eb85feda8",
   "metadata": {},
   "outputs": [],
   "source": [
    "FILE_BBRef_players = 'BBRef_Ids_to_Players.csv'\n",
    "FILE_BBRef_teams   = 'BBRef_Ids_to_Teams.csv'"
   ]
  },
  {
   "cell_type": "code",
   "execution_count": null,
   "id": "d4f7d957-0025-4f23-9277-9089fd198b10",
   "metadata": {},
   "outputs": [],
   "source": [
    "df_BBRef_players = pd.read_csv(DIR_raw / FILE_BBRef_players)\n",
    "df_BBRef_teams   = pd.read_csv(DIR_raw / FILE_BBRef_teams)"
   ]
  },
  {
   "cell_type": "markdown",
   "id": "d20ed096-7c88-4337-b255-c0daa040c60c",
   "metadata": {},
   "source": [
    "## Datasets processing"
   ]
  },
  {
   "cell_type": "markdown",
   "id": "30cc753d-105b-4dc9-bff0-1218d21d337e",
   "metadata": {},
   "source": [
    "### Ids to Players"
   ]
  },
  {
   "cell_type": "code",
   "execution_count": null,
   "id": "7d679f5e-a36b-4c20-b90d-8be1e5ea07c0",
   "metadata": {},
   "outputs": [],
   "source": [
    "df_BBRef_players = df_BBRef_players[['BBRefName', 'BBRefID', 'BBRefBirthDate']].dropna()\n",
    "\n",
    "df_BBRef_players['BBRefID']   = df_BBRef_players['BBRefID'].str.capitalize()\n",
    "df_BBRef_players['BBRefName'] = df_BBRef_players['BBRefName'].apply(lambda s: unicd2ascii(s))\n",
    "\n",
    "df_BBRef_players.rename(columns={'BBRefName': 'Name',\n",
    "                                 'BBRefID': 'Id',\n",
    "                                 'BBRefBirthDate': 'DOB'}, inplace=True)\n",
    "\n",
    "df_BBRef_players.set_index('Id', inplace=True)\n",
    "df_BBRef_players.to_csv(DIR_raw / 'Ids_to_Players.csv')"
   ]
  },
  {
   "cell_type": "markdown",
   "id": "b26790af-ffc3-400c-b978-0888a39dc8ff",
   "metadata": {},
   "source": [
    "### Ids to Teams "
   ]
  },
  {
   "cell_type": "code",
   "execution_count": null,
   "id": "d9785e9a-85fa-484a-94cf-9a44896b23de",
   "metadata": {},
   "outputs": [],
   "source": [
    "df_BBRef_teams   = df_BBRef_teams[['BBRef_Team_Name', 'BBRef_Team_Abbreviation']].dropna()\n",
    "df_BBRef_teams   = df_BBRef_teams.drop_duplicates()\n",
    "\n",
    "df_BBRef_teams.rename(columns={'BBRef_Team_Name': 'Name',\n",
    "                               'BBRef_Team_Abbreviation': 'Id'}, inplace=True)\n",
    "\n",
    "df_BBRef_teams.set_index('Id', inplace=True)\n",
    "df_BBRef_teams.to_csv(DIR_raw / 'Ids_to_Teams.csv')"
   ]
  },
  {
   "cell_type": "markdown",
   "id": "e176a2a0-e20e-4b3c-bb1e-c389d7ad6e50",
   "metadata": {},
   "source": [
    "### Clutch time all NBA stats "
   ]
  },
  {
   "cell_type": "code",
   "execution_count": null,
   "id": "679a92b9-a017-4f31-8304-d699f2802af4",
   "metadata": {},
   "outputs": [],
   "source": [
    "for y in range(YEAR_start, YEAR_end + 1):\n",
    "    filename = year2filename(y)\n",
    "    \n",
    "    df_pace   = pd.read_csv(DIR_raw_pace / filename)\n",
    "    df_teams  = pd.read_csv(DIR_raw_teams / filename)\n",
    "    df_teams  = pd.merge(df_teams, df_pace, on='Team')\n",
    "    \n",
    "    df_league = pd.DataFrame(df_teams.drop('Team', 1).mean())\n",
    "    df_league = df_league.T\n",
    "    \n",
    "    df_league.to_csv(DIR_processed_league\n",
    "                     / filename, index=False)"
   ]
  },
  {
   "cell_type": "code",
   "execution_count": null,
   "id": "61287a55-0821-40d2-85bd-f659077d847a",
   "metadata": {},
   "outputs": [],
   "source": []
  }
 ],
 "metadata": {
  "kernelspec": {
   "display_name": "Python 3",
   "language": "python",
   "name": "python3"
  },
  "language_info": {
   "codemirror_mode": {
    "name": "ipython",
    "version": 3
   },
   "file_extension": ".py",
   "mimetype": "text/x-python",
   "name": "python",
   "nbconvert_exporter": "python",
   "pygments_lexer": "ipython3",
   "version": "3.7.10"
  }
 },
 "nbformat": 4,
 "nbformat_minor": 5
}
